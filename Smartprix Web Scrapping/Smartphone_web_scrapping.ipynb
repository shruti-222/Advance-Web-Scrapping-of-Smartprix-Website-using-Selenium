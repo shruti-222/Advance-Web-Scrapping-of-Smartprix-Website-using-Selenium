{
 "cells": [
  {
   "cell_type": "code",
   "execution_count": 1,
   "id": "791e41b1",
   "metadata": {},
   "outputs": [],
   "source": [
    "import time\n",
    "from selenium import webdriver\n",
    "from selenium.webdriver.chrome.service import Service\n",
    "from selenium.webdriver.common.by import By"
   ]
  },
  {
   "cell_type": "code",
   "execution_count": 3,
   "id": "c5076472",
   "metadata": {},
   "outputs": [],
   "source": [
    "s = Service('C:/Users/HP/Desktop/chromedriver_win32.exe')\n",
    "driver = webdriver.Chrome(service = s)"
   ]
  },
  {
   "cell_type": "code",
   "execution_count": 4,
   "id": "7c4306e1",
   "metadata": {},
   "outputs": [],
   "source": [
    "driver.get('https://www.smartprix.com/mobiles')\n",
    "time.sleep(1)"
   ]
  },
  {
   "cell_type": "code",
   "execution_count": 5,
   "id": "875b0fc9",
   "metadata": {},
   "outputs": [],
   "source": [
    "driver.find_element(by=By.XPATH, value='//*[@id=\"app\"]/main/aside/div/div[5]/div[2]/label[1]/input').click()\n",
    "time.sleep(1)"
   ]
  },
  {
   "cell_type": "code",
   "execution_count": 6,
   "id": "0861b59f",
   "metadata": {},
   "outputs": [],
   "source": [
    "driver.find_element(by=By.XPATH, value='//*[@id=\"app\"]/main/aside/div/div[5]/div[2]/label[2]/input').click()\n",
    "time.sleep(2)"
   ]
  },
  {
   "cell_type": "code",
   "execution_count": 8,
   "id": "03be15af",
   "metadata": {},
   "outputs": [
    {
     "name": "stdout",
     "output_type": "stream",
     "text": [
      "8158\n",
      "13621\n",
      "13621\n",
      "19179\n",
      "19179\n",
      "24670\n",
      "24670\n",
      "30140\n",
      "30140\n",
      "35598\n",
      "35598\n",
      "41188\n",
      "41188\n",
      "46684\n",
      "46684\n",
      "52170\n",
      "52170\n",
      "57645\n",
      "57645\n",
      "63189\n",
      "63189\n",
      "68570\n",
      "68570\n",
      "73989\n",
      "73989\n",
      "79367\n",
      "79367\n",
      "84788\n",
      "84788\n",
      "90239\n",
      "90239\n",
      "95625\n",
      "95625\n",
      "101059\n",
      "101059\n",
      "106442\n",
      "106442\n",
      "111843\n",
      "111843\n",
      "117149\n",
      "117149\n",
      "122563\n",
      "122563\n",
      "127869\n",
      "127869\n",
      "133234\n",
      "133234\n",
      "138684\n",
      "138684\n",
      "144021\n",
      "144021\n",
      "149378\n",
      "149378\n",
      "154576\n",
      "154576\n",
      "159800\n",
      "159800\n",
      "165068\n",
      "165068\n",
      "170435\n",
      "170435\n",
      "175682\n",
      "175682\n",
      "180688\n",
      "180688\n",
      "186053\n",
      "186053\n",
      "191393\n",
      "191393\n",
      "196545\n",
      "196545\n",
      "201486\n",
      "201486\n",
      "206707\n",
      "206707\n",
      "211993\n",
      "211993\n",
      "217240\n",
      "217240\n",
      "222412\n",
      "222412\n",
      "227276\n",
      "227276\n",
      "231919\n",
      "231919\n",
      "236534\n",
      "236534\n",
      "241371\n",
      "241371\n",
      "246050\n",
      "246050\n",
      "250842\n",
      "250842\n",
      "255690\n",
      "255690\n",
      "260584\n",
      "260584\n",
      "265322\n",
      "265322\n",
      "269950\n",
      "269950\n",
      "269950\n"
     ]
    }
   ],
   "source": [
    "old_height = driver.execute_script('return document.body.scrollHeight')\n",
    "while True:\n",
    "\n",
    "    driver.find_element(by=By.XPATH, value='//*[@id=\"app\"]/main/div[1]/div[2]/div[3]').click()\n",
    "    time.sleep(1)\n",
    "\n",
    "    new_height = driver.execute_script('return document.body.scrollHeight')\n",
    "\n",
    "    print(old_height)\n",
    "    print(new_height)\n",
    "\n",
    "    if new_height == old_height:\n",
    "        break\n",
    "\n",
    "    old_height = new_height\n",
    "    "
   ]
  },
  {
   "cell_type": "code",
   "execution_count": 9,
   "id": "7a084de8",
   "metadata": {},
   "outputs": [],
   "source": [
    "html = driver.page_source\n",
    "\n",
    "with open('smartphone.html','w',encoding='utf-8') as f:\n",
    "    f.write(html)"
   ]
  },
  {
   "cell_type": "code",
   "execution_count": null,
   "id": "c4fb2654",
   "metadata": {},
   "outputs": [],
   "source": []
  }
 ],
 "metadata": {
  "kernelspec": {
   "display_name": "Python 3 (ipykernel)",
   "language": "python",
   "name": "python3"
  },
  "language_info": {
   "codemirror_mode": {
    "name": "ipython",
    "version": 3
   },
   "file_extension": ".py",
   "mimetype": "text/x-python",
   "name": "python",
   "nbconvert_exporter": "python",
   "pygments_lexer": "ipython3",
   "version": "3.9.12"
  }
 },
 "nbformat": 4,
 "nbformat_minor": 5
}
